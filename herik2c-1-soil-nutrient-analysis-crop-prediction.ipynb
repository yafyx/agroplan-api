{
 "cells": [
  {
   "cell_type": "code",
   "execution_count": null,
   "id": "8605d68c",
   "metadata": {
    "execution": {
     "iopub.execute_input": "2024-09-01T10:34:24.610787Z",
     "iopub.status.busy": "2024-09-01T10:34:24.610255Z",
     "iopub.status.idle": "2024-09-01T10:34:28.225579Z",
     "shell.execute_reply": "2024-09-01T10:34:28.223979Z"
    },
    "papermill": {
     "duration": 3.622432,
     "end_time": "2024-09-01T10:34:28.227671",
     "exception": true,
     "start_time": "2024-09-01T10:34:24.605239",
     "status": "failed"
    },
    "tags": []
   },
   "outputs": [
    {
     "ename": "",
     "evalue": "",
     "output_type": "error",
     "traceback": [
      "\u001b[1;31mThe kernel failed to start as 'Mapping' could not be imported from 'c:\\Users\\Lenovo\\AppData\\Local\\Programs\\Python\\Python311\\Lib\\collections\\__init__.py'.\n",
      "\u001b[1;31mClick <a href='https://aka.ms/kernelFailuresModuleImportErrFromFile'>here</a> for more info."
     ]
    }
   ],
   "source": [
    "import matplotlib.pyplot as plt\n",
    "import numpy as np\n",
    "import pandas as pd\n",
    "import random\n",
    "import re\n",
    "import string\n",
    "import warnings\n",
    "from sklearn import metrics\n",
    "from sklearn.metrics import classification_report\n",
    "from sklearn.model_selection import train_test_split\n",
    "from sklearn.neighbors import KNeighborsClassifier\n",
    "warnings.filterwarnings('ignore')\n",
    "\n",
    "crops = pd.read_csv('dataset/Crop_recommendation.csv')\n",
    "crops['label'].unique()\n",
    "\n",
    "acc = []\n",
    "model = []\n",
    "features = crops[['N', 'P','K','temperature', 'humidity', 'ph', 'rainfall']]\n",
    "target = crops['label']\n",
    "\n",
    "\n",
    "# tempN = round(random.uniform(10,100),2)\n",
    "# tempP = round(random.uniform(10,100),2)\n",
    "# tempK = round(random.uniform(10,100),2)\n",
    "# tempt = round(random.uniform(10,50),2)\n",
    "# temph = round(random.uniform(40,90),2)\n",
    "# tempp = round(random.uniform(5,8),2)\n",
    "# tempr = round(random.uniform(20,600),2)\n",
    "tempN = 2\n",
    "tempP = 2\n",
    "tempK = 12\n",
    "tempt = 29\n",
    "temph = 50\n",
    "tempp = 5.6\n",
    "tempr = 56\n",
    "\n",
    "x_values = np.array([[tempN, tempP, tempK, tempt, temph, tempp, tempr]])\n",
    "x_data = pd.DataFrame(x_values, columns = ['N','P','K','temperature','humidity','ph','rainfall'])\n",
    "print(\"Input Parameter:\\n\",x_data,end=\"\\n\")\n",
    "\n",
    "x_train, x_test, y_train, y_test = train_test_split(features,target,test_size = 0.3,random_state =2)\n",
    "\n",
    "knn = KNeighborsClassifier()\n",
    "\n",
    "knn.fit(x_train,y_train)\n",
    "\n",
    "ans = knn.predict(x_data)\n",
    "\n",
    "predicted_values = knn.predict(x_test)\n",
    "\n",
    "x = metrics.accuracy_score(y_test, predicted_values)\n",
    "acc.append(x)\n",
    "model.append('K Nearest Neighbours')\n",
    "print(\"\\nKNN Accuracy is: \", round((x*100),2), \"%\")\n",
    "\n",
    "#Print Train Accuracy\n",
    "knn_train_accuracy = knn.score(x_train,y_train)\n",
    "print(\"knn_train_accuracy = \",round(knn.score(x_train,y_train)*100,2), \"%\")\n",
    "#Print Test Accuracy\n",
    "knn_test_accuracy = knn.score(x_test,y_test)\n",
    "print(\"knn_test_accuracy = \", round(knn.score(x_test,y_test)*100,2), \"%\\n\")\n",
    "\n",
    "print(\"\\n\\nCrops Prediction (KNN Classifier): \",ans[0],\"\\n\")\n",
    "\n",
    "\n",
    "def convert_to_lower(text):\n",
    "    return text.lower()\n",
    "def remove_numbers(text):\n",
    "    number_pattern = r'\\d+'\n",
    "    without_number = re.sub(pattern=number_pattern, repl=\" \", string=text)\n",
    "    return without_number\n",
    "def remove_punctuation(text):\n",
    "    return text.translate(str.maketrans('', '', string.punctuation))\n",
    "def remove_extra_white_spaces(text):\n",
    "    single_char_pattern = r'\\s+[a-zA-Z]\\s+'\n",
    "    without_sc = re.sub(pattern=single_char_pattern, repl=\" \", string=text)\n",
    "    return without_sc\n",
    "\n",
    "crop_x = input(\"Crop to be yield: \")\n",
    "crop_x = convert_to_lower(remove_numbers(remove_punctuation(remove_extra_white_spaces(crop_x))))\n",
    "\n",
    "\n",
    "if crop_x == 'apple' or crop_x == 'banana' or crop_x == 'rice' or crop_x =='jute' or crop_x == 'watermelon' or crop_x == 'maize'or crop_x == 'chickpea' or crop_x == 'kidneybeans'or crop_x == 'apple' or crop_x == 'mothbeans'or crop_x == 'mungbean' or crop_x == 'blackgram'or crop_x == 'lentil' or crop_x == 'pomegranate'or crop_x == 'banana' or crop_x == 'mango' or crop_x == 'grapes' or crop_x == 'muskmelon' or crop_x == 'orange' or crop_x == 'papaya' or crop_x == 'coconut' or crop_x == 'cotton' or crop_x == 'coffee' or crop_x == 'pigeonpeas':\n",
    "    \n",
    "    def deviatedornot(data, val):\n",
    "\n",
    "        variance = np.var(data)\n",
    "        squared_difference1 = (val - np.mean(data)) ** 2\n",
    "        squared_difference2 = (np.mean(data) - val) ** 2\n",
    "\n",
    "        if (squared_difference1 > variance) & (squared_difference2 > variance):\n",
    "            return False\n",
    "        else:\n",
    "            return True\n",
    "\n",
    "    x_rows = crops[crops['label']==crop_x]\n",
    "    x_rows = x_rows.drop(['label'], axis=1)\n",
    "    print(x_rows)\n",
    "    \n",
    "    #hitung mean setiap parameter\n",
    "    x_N = x_rows['N'].mean()\n",
    "    x_P = x_rows['P'].mean()\n",
    "    x_K = x_rows['K'].mean()\n",
    "    x_t = x_rows['temperature'].mean()\n",
    "    x_h = x_rows['humidity'].mean()\n",
    "    x_p = x_rows['ph'].mean()\n",
    "    x_r = x_rows['rainfall'].mean()\n",
    "\n",
    "    mean_val = [x_rows[col].mean() for col in x_rows.columns]\n",
    "    #print(f\"\\n Hasil Rerata Tanaman {crop_x}\")\n",
    "    percent = []\n",
    "    for x, y in zip(mean_val, x_data):\n",
    "        if y == 'N' or y=='P' or y=='K':\n",
    "            print(\"Nutrisi \",y,\" nilai Standart (Rerata): \",round(x,2), \"dan Data Sensor:\", round(x_data[y][0],2),\"==>> Rekomendasi: \",round(x-x_data[y][0],2))\n",
    "        elif y == 'humidity':\n",
    "            print(y,\"(RH/kelembaban) rata-rata : \",round(x,2), \"dan Data Sensor:\", round(x_data[y][0],2),\"==>> Rekomendasi: \",round(x-x_data[y][0],2))\n",
    "        elif y == 'ph':\n",
    "            print(y,\"(Potential of Hydrogen) rata-rata: \",round(x,2), \"dan Data Sensor:\", round(x_data[y][0],2),\"==>> Rekomendasi: \",round(x-x_data[y][0],2))\n",
    "        else:\n",
    "            print(y,\"nilai Standart (Rerata): \",round(x,2), \"dan Data Sensor:\", round(x_data[y][0],2),\"==>> Rekomendasi: \",round(x-x_data[y][0],2))\n",
    "        if x>x_data[y][0]:\n",
    "            percent.append(-((x-x_data[y][0])*100/x))\n",
    "        elif x<=x_data[y][0]:\n",
    "            percent.append(((x_data[y][0]-x)*100/x_data[y][0]))\n",
    "\n",
    "\n",
    "    if ans[0]==crop_x:\n",
    "        print(f\"\\nThe current state of soil is {crop_x} ready\\n\\n\")\n",
    "    else:\n",
    "        print(f\"\\n{crop_x} can't be planted is such conditions\\n\\n\")\n",
    "\n",
    "        param = ['N', 'P', 'K', 'temperature', 'humidity', 'ph', 'rainfall']\n",
    "\n",
    "        plt.barh(param, percent, color='red')\n",
    "\n",
    "        for i, p in enumerate(percent):\n",
    "            if p>=0:\n",
    "                plt.text(p+1, i, f\"+{round(p,2)}% \", ha='left', va='center', color='black')\n",
    "            else:\n",
    "                plt.text(0+1, i, f\"{round(p,2)}%\", ha='left', va='center', color='black')\n",
    "        plt.xlim(-100, 100)\n",
    "        plt.xlabel(f\"Parameter yang dibutuhkan (%) untuk tanaman {crop_x}\")\n",
    "        plt.ylabel('Parameter Nilai')\n",
    "        #plt.title(f\"Parameters Required for {crop_x}\")\n",
    "        plt.show()\n",
    "else:\n",
    "    print (f\"{crop_x} recommendation is not found in dataset\")"
   ]
  },
  {
   "cell_type": "markdown",
   "id": "eb62f863",
   "metadata": {
    "papermill": {
     "duration": null,
     "end_time": null,
     "exception": null,
     "start_time": null,
     "status": "pending"
    },
    "tags": []
   },
   "source": [
    "### Keterangan Tanda 'minus' dan 'plus'\n",
    "\n",
    "##### 1. MINUS berdasarkan perbandingan dengan tanaman rekomendasi AI dengan tanaman yang diinginkan KEKURANGAN dalam Persentasi (%)\n",
    "##### Perhitungan Yang dibutuhkan jika Minus sebagai berikut:\n",
    "##### Nilai Ideal (minus) = Data dari sensor + (Nilai Standar x Persentasi nilai (parameter)), Maka hasil Nilai Ideal perlu ditambahkan agar hasi nilai sensor yang terbaca akan naik\n",
    "\n",
    "##### 2. PLUS berdasarkan perbandingan dengan tanaman rekomendasi AI dengan tanaman yang diinginkan KELEBIHAN dalam Persentasi (%)\n",
    "##### Perhitungan Yang dibutuhkan jika Plus sebagai berikut:\n",
    "##### Nilai Ideal (Plus) = Data dari sensor x Persentasi nilai (parameter), maka hasil nilai Ideal dari sensor  perlu dikurangkan"
   ]
  },
  {
   "cell_type": "code",
   "execution_count": 9,
   "id": "33305077",
   "metadata": {},
   "outputs": [
    {
     "data": {
      "text/plain": [
       "['model/agroplan_model.joblib']"
      ]
     },
     "execution_count": 9,
     "metadata": {},
     "output_type": "execute_result"
    }
   ],
   "source": [
    "import joblib\n",
    "joblib.dump(knn, 'model/agroplan_model.joblib')"
   ]
  }
 ],
 "metadata": {
  "kaggle": {
   "accelerator": "none",
   "dataSources": [
    {
     "datasetId": 1046158,
     "sourceId": 1760012,
     "sourceType": "datasetVersion"
    },
    {
     "datasetId": 4467113,
     "sourceId": 7661164,
     "sourceType": "datasetVersion"
    },
    {
     "datasetId": 5624733,
     "sourceId": 9291117,
     "sourceType": "datasetVersion"
    }
   ],
   "dockerImageVersionId": 30558,
   "isGpuEnabled": false,
   "isInternetEnabled": false,
   "language": "python",
   "sourceType": "notebook"
  },
  "kernelspec": {
   "display_name": "Python 3",
   "language": "python",
   "name": "python3"
  },
  "language_info": {
   "codemirror_mode": {
    "name": "ipython",
    "version": 3
   },
   "file_extension": ".py",
   "mimetype": "text/x-python",
   "name": "python",
   "nbconvert_exporter": "python",
   "pygments_lexer": "ipython3",
   "version": "3.11.4"
  },
  "papermill": {
   "default_parameters": {},
   "duration": 8.54505,
   "end_time": "2024-09-01T10:34:28.953506",
   "environment_variables": {},
   "exception": true,
   "input_path": "__notebook__.ipynb",
   "output_path": "__notebook__.ipynb",
   "parameters": {},
   "start_time": "2024-09-01T10:34:20.408456",
   "version": "2.4.0"
  }
 },
 "nbformat": 4,
 "nbformat_minor": 5
}
